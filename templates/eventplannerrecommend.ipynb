{
 "cells": [
  {
   "cell_type": "code",
   "execution_count": 3,
   "metadata": {},
   "outputs": [
    {
     "name": "stdout",
     "output_type": "stream",
     "text": [
      "Requirement already satisfied: numpy in /Users/sagarm1/Desktop/MAJOR PROJECT/priyanka/.venv/lib/python3.11/site-packages (1.26.4)\n"
     ]
    }
   ],
   "source": [
    "!pip install numpy"
   ]
  },
  {
   "cell_type": "code",
   "execution_count": 4,
   "metadata": {},
   "outputs": [],
   "source": [
    "import math\n",
    "import numpy as np\n",
    "import operator\n",
    "import matplotlib.pyplot as plt\n",
    "\n",
    "event_titles_map = {}\n",
    "event_client_map={}\n",
    "client_event_map={}\n",
    "client_avg_rating = {}\n",
    "cache = {}\n",
    "\n"
   ]
  },
  {
   "cell_type": "code",
   "execution_count": 5,
   "metadata": {},
   "outputs": [],
   "source": [
    "def read_event_title(fname):   \n",
    "    with open(fname) as f:\n",
    "        for line in f.readlines():\n",
    "            parts = [x.strip() for x in line.split(',')]\n",
    "            event_id = int(parts[0])\n",
    "            event_titles_map[event_id] = parts[2] + \"(\"+ parts[1]+\")\"    \n",
    "\n",
    "def get_ratings_map(fname):\n",
    "    with open(fname) as f:\n",
    "        for line in f.readlines():\n",
    "            parts = [x.strip() for x in line.split(',')]\n",
    "            event_title_id = int(float(parts[0]))\n",
    "            client_id = int(float(parts[1]))\n",
    "            rating = float(parts[2])\n",
    "            if client_id not in client_event_map:\n",
    "                client_event_map[client_id]={}\n",
    "            client_event_map[client_id][event_title_id] = rating\n",
    "            \n",
    "            if event_title_id not in event_client_map:\n",
    "                event_client_map[event_title_id] = []\n",
    "            event_client_map[event_title_id].append(client_id)\n"
   ]
  },
  {
   "cell_type": "code",
   "execution_count": null,
   "metadata": {},
   "outputs": [],
   "source": []
  },
  {
   "cell_type": "code",
   "execution_count": 6,
   "metadata": {},
   "outputs": [],
   "source": [
    "def get_client_avg_rating():\n",
    "    for client in client_event_map:\n",
    "        sum = 0\n",
    "        i=0\n",
    "        for event in client_event_map[client]:\n",
    "            sum = sum + float(client_event_map[client][event])\n",
    "            i = i + 1 \n",
    "        avg = sum/i\n",
    "        client_avg_rating[client]=avg\n"
   ]
  },
  {
   "cell_type": "code",
   "execution_count": 7,
   "metadata": {},
   "outputs": [
    {
     "ename": "FileNotFoundError",
     "evalue": "[Errno 2] No such file or directory: 'event_titles.txt'",
     "output_type": "error",
     "traceback": [
      "\u001b[0;31m---------------------------------------------------------------------------\u001b[0m",
      "\u001b[0;31mFileNotFoundError\u001b[0m                         Traceback (most recent call last)",
      "Cell \u001b[0;32mIn[7], line 6\u001b[0m\n\u001b[1;32m      3\u001b[0m ratings_filename\u001b[38;5;241m=\u001b[39m\u001b[38;5;124m\"\u001b[39m\u001b[38;5;124mratings.txt\u001b[39m\u001b[38;5;124m\"\u001b[39m\n\u001b[1;32m      4\u001b[0m \u001b[38;5;66;03m# ratings_filename.head()\u001b[39;00m\n\u001b[0;32m----> 6\u001b[0m \u001b[43mread_event_title\u001b[49m\u001b[43m(\u001b[49m\u001b[43mevent_titles_filename\u001b[49m\u001b[43m)\u001b[49m\n\u001b[1;32m      7\u001b[0m get_ratings_map(ratings_filename)\n\u001b[1;32m      8\u001b[0m get_client_avg_rating()\n",
      "Cell \u001b[0;32mIn[5], line 2\u001b[0m, in \u001b[0;36mread_event_title\u001b[0;34m(fname)\u001b[0m\n\u001b[1;32m      1\u001b[0m \u001b[38;5;28;01mdef\u001b[39;00m \u001b[38;5;21mread_event_title\u001b[39m(fname):   \n\u001b[0;32m----> 2\u001b[0m     \u001b[38;5;28;01mwith\u001b[39;00m \u001b[38;5;28;43mopen\u001b[39;49m\u001b[43m(\u001b[49m\u001b[43mfname\u001b[49m\u001b[43m)\u001b[49m \u001b[38;5;28;01mas\u001b[39;00m f:\n\u001b[1;32m      3\u001b[0m         \u001b[38;5;28;01mfor\u001b[39;00m line \u001b[38;5;129;01min\u001b[39;00m f\u001b[38;5;241m.\u001b[39mreadlines():\n\u001b[1;32m      4\u001b[0m             parts \u001b[38;5;241m=\u001b[39m [x\u001b[38;5;241m.\u001b[39mstrip() \u001b[38;5;28;01mfor\u001b[39;00m x \u001b[38;5;129;01min\u001b[39;00m line\u001b[38;5;241m.\u001b[39msplit(\u001b[38;5;124m'\u001b[39m\u001b[38;5;124m,\u001b[39m\u001b[38;5;124m'\u001b[39m)]\n",
      "File \u001b[0;32m~/Desktop/MAJOR PROJECT/priyanka/.venv/lib/python3.11/site-packages/IPython/core/interactiveshell.py:324\u001b[0m, in \u001b[0;36m_modified_open\u001b[0;34m(file, *args, **kwargs)\u001b[0m\n\u001b[1;32m    317\u001b[0m \u001b[38;5;28;01mif\u001b[39;00m file \u001b[38;5;129;01min\u001b[39;00m {\u001b[38;5;241m0\u001b[39m, \u001b[38;5;241m1\u001b[39m, \u001b[38;5;241m2\u001b[39m}:\n\u001b[1;32m    318\u001b[0m     \u001b[38;5;28;01mraise\u001b[39;00m \u001b[38;5;167;01mValueError\u001b[39;00m(\n\u001b[1;32m    319\u001b[0m         \u001b[38;5;124mf\u001b[39m\u001b[38;5;124m\"\u001b[39m\u001b[38;5;124mIPython won\u001b[39m\u001b[38;5;124m'\u001b[39m\u001b[38;5;124mt let you open fd=\u001b[39m\u001b[38;5;132;01m{\u001b[39;00mfile\u001b[38;5;132;01m}\u001b[39;00m\u001b[38;5;124m by default \u001b[39m\u001b[38;5;124m\"\u001b[39m\n\u001b[1;32m    320\u001b[0m         \u001b[38;5;124m\"\u001b[39m\u001b[38;5;124mas it is likely to crash IPython. If you know what you are doing, \u001b[39m\u001b[38;5;124m\"\u001b[39m\n\u001b[1;32m    321\u001b[0m         \u001b[38;5;124m\"\u001b[39m\u001b[38;5;124myou can use builtins\u001b[39m\u001b[38;5;124m'\u001b[39m\u001b[38;5;124m open.\u001b[39m\u001b[38;5;124m\"\u001b[39m\n\u001b[1;32m    322\u001b[0m     )\n\u001b[0;32m--> 324\u001b[0m \u001b[38;5;28;01mreturn\u001b[39;00m \u001b[43mio_open\u001b[49m\u001b[43m(\u001b[49m\u001b[43mfile\u001b[49m\u001b[43m,\u001b[49m\u001b[43m \u001b[49m\u001b[38;5;241;43m*\u001b[39;49m\u001b[43margs\u001b[49m\u001b[43m,\u001b[49m\u001b[43m \u001b[49m\u001b[38;5;241;43m*\u001b[39;49m\u001b[38;5;241;43m*\u001b[39;49m\u001b[43mkwargs\u001b[49m\u001b[43m)\u001b[49m\n",
      "\u001b[0;31mFileNotFoundError\u001b[0m: [Errno 2] No such file or directory: 'event_titles.txt'"
     ]
    }
   ],
   "source": [
    "event_titles_filename=\"event_titles.txt\"\n",
    "# event_titles_filename.head()\n",
    "ratings_filename=\"ratings.txt\"\n",
    "# ratings_filename.head()\n",
    "\n",
    "read_event_title(event_titles_filename)\n",
    "get_ratings_map(ratings_filename)\n",
    "get_client_avg_rating()\n"
   ]
  },
  {
   "cell_type": "code",
   "execution_count": null,
   "metadata": {},
   "outputs": [],
   "source": [
    "def calculate_accuracy():\n",
    "    correct_predictions = 0\n",
    "    total_predictions = 0\n",
    "    for client in client_event_map:\n",
    "        for event in client_event_map[client]:\n",
    "            total_predictions += 1\n",
    "            predicted_rating = predict_rating(client, event)\n",
    "            if predicted_rating == client_event_map[client][event]:\n",
    "                correct_predictions += 1\n",
    "    accuracy = (correct_predictions / total_predictions) * 100\n",
    "    return accuracy\n"
   ]
  },
  {
   "cell_type": "code",
   "execution_count": null,
   "metadata": {},
   "outputs": [],
   "source": [
    "def predict_rating(client, event):\n",
    "    if client not in cache:\n",
    "        client_correlation = get_client_corr(client)\n",
    "        temp_rating = 0\n",
    "        for other_client in client_correlation:\n",
    "            if event in client_event_map[other_client]:\n",
    "                temp_rating += client_correlation[other_client] * (client_event_map[other_client][event] - client_avg_rating[other_client])\n",
    "        predicted_rating = client_avg_rating[client] + temp_rating\n",
    "        cache[client] = predicted_rating\n",
    "    else:\n",
    "        predicted_rating = cache[client]\n",
    "    return predicted_rating\n"
   ]
  },
  {
   "cell_type": "code",
   "execution_count": null,
   "metadata": {},
   "outputs": [],
   "source": [
    "def get_client_corr(active_client):\n",
    "    client_correlation = {}\n",
    "    for client in client_event_map:\n",
    "        if client != active_client:\n",
    "            nominator = 0\n",
    "            sum_vaj_diff = 0\n",
    "            sum_vij_diff = 0\n",
    "            for event in client_event_map[active_client]:\n",
    "                if event in client_event_map[client]:                \n",
    "                    nominator +=  (client_event_map[active_client][event] - client_avg_rating[active_client]) * (client_event_map[client][event] - client_avg_rating[client])\n",
    "                    sum_vaj_diff +=  np.power(client_event_map[active_client][event] - client_avg_rating[active_client], 2)\n",
    "                    sum_vij_diff +=  np.power(client_event_map[client][event] - client_avg_rating[client], 2)\n",
    "            denominator= np.sqrt(sum_vaj_diff * sum_vij_diff)  \n",
    "            if denominator != 0:\n",
    "                client_correlation[client] = nominator / denominator\n",
    "    return client_correlation\n"
   ]
  },
  {
   "cell_type": "code",
   "execution_count": null,
   "metadata": {},
   "outputs": [],
   "source": [
    "def recommendation(active_client, K):\n",
    "    if active_client not in cache:\n",
    "        client_correlation = get_client_corr(active_client)\n",
    "        predicted_rating ={}\n",
    "        for event in event_titles_map:\n",
    "            temp_rating = 0\n",
    "            if event in event_client_map:\n",
    "                for client in event_client_map[event]:\n",
    "                    if client in client_correlation:\n",
    "                        temp_rating +=client_correlation[client]*(client_event_map[client][event]- client_avg_rating[client])\n",
    "            predicted_rating[event] = temp_rating\n",
    "\n",
    "        predicted_rating = sorted(predicted_rating.items(), key=lambda kv: kv[1], reverse=True)\n",
    "        cache[active_client] = predicted_rating\n",
    "    else:\n",
    "        predicted_rating= cache[active_client]\n",
    "        \n",
    "    recommended_events = predicted_rating[:K]\n",
    "    for event in recommended_events:\n",
    "        print(event_titles_map[event[0]])\n"
   ]
  },
  {
   "cell_type": "code",
   "execution_count": 8,
   "metadata": {},
   "outputs": [
    {
     "ename": "NameError",
     "evalue": "name 'recommendation' is not defined",
     "output_type": "error",
     "traceback": [
      "\u001b[0;31m---------------------------------------------------------------------------\u001b[0m",
      "\u001b[0;31mNameError\u001b[0m                                 Traceback (most recent call last)",
      "Cell \u001b[0;32mIn[8], line 3\u001b[0m\n\u001b[1;32m      1\u001b[0m active_client \u001b[38;5;241m=\u001b[39m \u001b[38;5;241m1392773\u001b[39m\n\u001b[1;32m      2\u001b[0m K \u001b[38;5;241m=\u001b[39m \u001b[38;5;241m5\u001b[39m\n\u001b[0;32m----> 3\u001b[0m \u001b[43mrecommendation\u001b[49m(active_client, K)\n",
      "\u001b[0;31mNameError\u001b[0m: name 'recommendation' is not defined"
     ]
    }
   ],
   "source": [
    "active_client = 1392773\n",
    "K = 5\n",
    "recommendation(active_client, K)"
   ]
  },
  {
   "cell_type": "code",
   "execution_count": null,
   "metadata": {},
   "outputs": [],
   "source": [
    "\n"
   ]
  },
  {
   "cell_type": "code",
   "execution_count": null,
   "metadata": {},
   "outputs": [],
   "source": [
    "# Save the trained model to model.pkl\n",
    "import pickle\n",
    "model = cache\n",
    "with open('model.pkl', 'wb') as file:\n",
    "    pickle.dump(model, file)"
   ]
  },
  {
   "cell_type": "code",
   "execution_count": null,
   "metadata": {},
   "outputs": [],
   "source": [
    "# Assuming you have features for each event stored in a dictionary event_features_map\n",
    "\n",
    "event_features_map = {\n",
    "    # Define your event features here\n",
    "}\n",
    "\n",
    "def calculate_content_similarity(event1, event2):\n",
    "    # Implement a similarity measure between two events based on their features\n",
    "    # Example: Cosine similarity, Jaccard similarity, etc.\n",
    "    pass\n",
    "\n",
    "def content_based_recommendation(active_client, K):\n",
    "    user_profile = client_event_map.get(active_client, {})\n",
    "    recommendations = []\n",
    "\n",
    "    for event in event_features_map:\n",
    "        # Calculate similarity between the event and items the user has interacted with\n",
    "        similarity_score = calculate_content_similarity(event, user_profile)\n",
    "        \n",
    "        # Exclude events already interacted with by the user\n",
    "        if event not in user_profile:\n",
    "            recommendations.append((event, similarity_score))\n",
    "\n",
    "    # Sort recommendations based on similarity score and select top-K\n",
    "    recommendations.sort(key=lambda x: x[1], reverse=True)\n",
    "    top_recommendations = recommendations[:K]\n",
    "    \n",
    "    return top_recommendations\n",
    "\n",
    "# Example usage\n",
    "active_client = 1987434\n",
    "K = 5\n",
    "content_based_recommendations = content_based_recommendation(active_client, K)\n"
   ]
  }
 ],
 "metadata": {
  "kernelspec": {
   "display_name": "Python 3 (ipykernel)",
   "language": "python",
   "name": "python3"
  },
  "language_info": {
   "codemirror_mode": {
    "name": "ipython",
    "version": 3
   },
   "file_extension": ".py",
   "mimetype": "text/x-python",
   "name": "python",
   "nbconvert_exporter": "python",
   "pygments_lexer": "ipython3",
   "version": "3.11.4"
  }
 },
 "nbformat": 4,
 "nbformat_minor": 2
}
