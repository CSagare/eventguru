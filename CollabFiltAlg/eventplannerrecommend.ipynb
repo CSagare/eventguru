{
 "cells": [
  {
   "cell_type": "code",
   "execution_count": 10,
   "metadata": {},
   "outputs": [],
   "source": [
    "import math\n",
    "import numpy as np\n",
    "import operator\n",
    "import matplotlib.pyplot as plt\n",
    "\n",
    "event_titles_map = {}\n",
    "event_client_map={}\n",
    "client_event_map={}\n",
    "client_avg_rating = {}\n",
    "cache = {}\n"
   ]
  },
  {
   "cell_type": "code",
   "execution_count": 11,
   "metadata": {},
   "outputs": [],
   "source": [
    "def read_event_title(fname):   \n",
    "    with open(fname) as f:\n",
    "        for line in f.readlines():\n",
    "            parts = [x.strip() for x in line.split(',')]\n",
    "            event_id = int(parts[0])\n",
    "            event_titles_map[event_id] = parts[2] + \"(\"+ parts[1]+\")\"    \n",
    "\n",
    "def get_ratings_map(fname):\n",
    "    with open(fname) as f:\n",
    "        for line in f.readlines():\n",
    "            parts = [x.strip() for x in line.split(',')]\n",
    "            event_title_id = int(float(parts[0]))\n",
    "            client_id = int(float(parts[1]))\n",
    "            rating = float(parts[2])\n",
    "            if client_id not in client_event_map:\n",
    "                client_event_map[client_id]={}\n",
    "            client_event_map[client_id][event_title_id] = rating\n",
    "            \n",
    "            if event_title_id not in event_client_map:\n",
    "                event_client_map[event_title_id] = []\n",
    "            event_client_map[event_title_id].append(client_id)\n"
   ]
  },
  {
   "cell_type": "code",
   "execution_count": 12,
   "metadata": {},
   "outputs": [],
   "source": [
    "def get_client_avg_rating():\n",
    "    for client in client_event_map:\n",
    "        sum = 0\n",
    "        i=0\n",
    "        for event in client_event_map[client]:\n",
    "            sum = sum + float(client_event_map[client][event])\n",
    "            i = i + 1 \n",
    "        avg = sum/i\n",
    "        client_avg_rating[client]=avg\n"
   ]
  },
  {
   "cell_type": "code",
   "execution_count": 13,
   "metadata": {},
   "outputs": [],
   "source": [
    "event_titles_filename=\"/Users/priyankarajbanshi/Downloads/Event Planner Recommend/event_titles.txt\"\n",
    "ratings_filename=\"/Users/priyankarajbanshi/Downloads/Event Planner Recommend/ratings.txt\"\n",
    "read_event_title(event_titles_filename)\n",
    "get_ratings_map(ratings_filename)\n",
    "get_client_avg_rating()\n"
   ]
  },
  {
   "cell_type": "code",
   "execution_count": 14,
   "metadata": {},
   "outputs": [],
   "source": [
    "def calculate_accuracy():\n",
    "    correct_predictions = 0\n",
    "    total_predictions = 0\n",
    "    for client in client_event_map:\n",
    "        for event in client_event_map[client]:\n",
    "            total_predictions += 1\n",
    "            predicted_rating = predict_rating(client, event)\n",
    "            if predicted_rating == client_event_map[client][event]:\n",
    "                correct_predictions += 1\n",
    "    accuracy = (correct_predictions / total_predictions) * 100\n",
    "    return accuracy\n"
   ]
  },
  {
   "cell_type": "code",
   "execution_count": 15,
   "metadata": {},
   "outputs": [],
   "source": [
    "def predict_rating(client, event):\n",
    "    if client not in cache:\n",
    "        client_correlation = get_client_corr(client)\n",
    "        temp_rating = 0\n",
    "        for other_client in client_correlation:\n",
    "            if event in client_event_map[other_client]:\n",
    "                temp_rating += client_correlation[other_client] * (client_event_map[other_client][event] - client_avg_rating[other_client])\n",
    "        predicted_rating = client_avg_rating[client] + temp_rating\n",
    "        cache[client] = predicted_rating\n",
    "    else:\n",
    "        predicted_rating = cache[client]\n",
    "    return predicted_rating\n"
   ]
  },
  {
   "cell_type": "code",
   "execution_count": 16,
   "metadata": {},
   "outputs": [],
   "source": [
    "def get_client_corr(active_client):\n",
    "    client_correlation = {}\n",
    "    for client in client_event_map:\n",
    "        if client != active_client:\n",
    "            nominator = 0\n",
    "            sum_vaj_diff = 0\n",
    "            sum_vij_diff = 0\n",
    "            for event in client_event_map[active_client]:\n",
    "                if event in client_event_map[client]:                \n",
    "                    nominator +=  (client_event_map[active_client][event] - client_avg_rating[active_client]) * (client_event_map[client][event] - client_avg_rating[client])\n",
    "                    sum_vaj_diff +=  np.power(client_event_map[active_client][event] - client_avg_rating[active_client], 2)\n",
    "                    sum_vij_diff +=  np.power(client_event_map[client][event] - client_avg_rating[client], 2)\n",
    "            denominator= np.sqrt(sum_vaj_diff * sum_vij_diff)  \n",
    "            if denominator != 0:\n",
    "                client_correlation[client] = nominator / denominator\n",
    "    return client_correlation\n"
   ]
  },
  {
   "cell_type": "code",
   "execution_count": 17,
   "metadata": {},
   "outputs": [],
   "source": [
    "def recommendation(active_client, K):\n",
    "    if active_client not in cache:\n",
    "        client_correlation = get_client_corr(active_client)\n",
    "        predicted_rating ={}\n",
    "        for event in event_titles_map:\n",
    "            temp_rating = 0\n",
    "            if event in event_client_map:\n",
    "                for client in event_client_map[event]:\n",
    "                    if client in client_correlation:\n",
    "                        temp_rating +=client_correlation[client]*(client_event_map[client][event]- client_avg_rating[client])\n",
    "            predicted_rating[event] = temp_rating\n",
    "\n",
    "        predicted_rating = sorted(predicted_rating.items(), key=lambda kv: kv[1], reverse=True)\n",
    "        cache[active_client] = predicted_rating\n",
    "    else:\n",
    "        predicted_rating= cache[active_client]\n",
    "        \n",
    "    recommended_events = predicted_rating[:K]\n",
    "    for event in recommended_events:\n",
    "        print(event_titles_map[event[0]])\n"
   ]
  },
  {
   "cell_type": "code",
   "execution_count": 22,
   "metadata": {},
   "outputs": [
    {
     "name": "stdout",
     "output_type": "stream",
     "text": [
      "Harvey Pvt Ltd(Harvey)\n",
      "Angela Pvt Ltd(Angela)\n",
      "Larry Pvt Ltd(Larry)\n",
      "Louise Pvt Ltd(Louise)\n",
      "Benjamin Pvt Ltd(Benjamin)\n"
     ]
    }
   ],
   "source": [
    "active_client = 1987434\n",
    "K = 5\n",
    "recommendation(active_client, K)"
   ]
  },
  {
   "cell_type": "code",
   "execution_count": 23,
   "metadata": {},
   "outputs": [],
   "source": [
    "# Save the trained model to model.pkl\n",
    "model = cache\n",
    "with open('model.pkl', 'wb') as file:\n",
    "    pickle.dump(model, file)"
   ]
  },
  {
   "cell_type": "code",
   "execution_count": null,
   "metadata": {},
   "outputs": [],
   "source": []
  }
 ],
 "metadata": {
  "kernelspec": {
   "display_name": "Python 3 (ipykernel)",
   "language": "python",
   "name": "python3"
  },
  "language_info": {
   "codemirror_mode": {
    "name": "ipython",
    "version": 3
   },
   "file_extension": ".py",
   "mimetype": "text/x-python",
   "name": "python",
   "nbconvert_exporter": "python",
   "pygments_lexer": "ipython3",
   "version": "3.9.13"
  }
 },
 "nbformat": 4,
 "nbformat_minor": 2
}
