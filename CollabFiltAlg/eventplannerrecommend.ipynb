{
 "cells": [
  {
   "cell_type": "code",
   "execution_count": 1,
   "metadata": {},
   "outputs": [],
   "source": [
    "import math\n",
    "import numpy as np\n",
    "import operator\n",
    "import matplotlib.pyplot as plt\n",
    "\n",
    "event_titles_map = {}\n",
    "event_client_map={}\n",
    "client_event_map={}\n",
    "client_avg_rating = {}\n",
    "cache = {}\n"
   ]
  },
  {
   "cell_type": "code",
   "execution_count": 2,
   "metadata": {},
   "outputs": [],
   "source": [
    "def read_event_title(fname):   \n",
    "    with open(fname) as f:\n",
    "        for line in f.readlines():\n",
    "            parts = [x.strip() for x in line.split(',')]\n",
    "            event_id = int(parts[0])\n",
    "            event_titles_map[event_id] = parts[2] + \"(\"+ parts[1]+\")\"    \n",
    "\n",
    "def get_ratings_map(fname):\n",
    "    with open(fname) as f:\n",
    "        for line in f.readlines():\n",
    "            parts = [x.strip() for x in line.split(',')]\n",
    "            event_title_id = int(float(parts[0]))\n",
    "            client_id = int(float(parts[1]))\n",
    "            rating = float(parts[2])\n",
    "            if client_id not in client_event_map:\n",
    "                client_event_map[client_id]={}\n",
    "            client_event_map[client_id][event_title_id] = rating\n",
    "            \n",
    "            if event_title_id not in event_client_map:\n",
    "                event_client_map[event_title_id] = []\n",
    "            event_client_map[event_title_id].append(client_id)\n"
   ]
  },
  {
   "cell_type": "code",
   "execution_count": null,
   "metadata": {},
   "outputs": [],
   "source": []
  },
  {
   "cell_type": "code",
   "execution_count": 3,
   "metadata": {},
   "outputs": [],
   "source": [
    "def get_client_avg_rating():\n",
    "    for client in client_event_map:\n",
    "        sum = 0\n",
    "        i=0\n",
    "        for event in client_event_map[client]:\n",
    "            sum = sum + float(client_event_map[client][event])\n",
    "            i = i + 1 \n",
    "        avg = sum/i\n",
    "        client_avg_rating[client]=avg\n"
   ]
  },
  {
   "cell_type": "code",
   "execution_count": 4,
   "metadata": {},
   "outputs": [],
   "source": [
    "event_titles_filename=\"event_titles.txt\"\n",
    "# event_titles_filename.head()\n",
    "ratings_filename=\"ratings.txt\"\n",
    "# ratings_filename.head()\n",
    "\n",
    "read_event_title(event_titles_filename)\n",
    "get_ratings_map(ratings_filename)\n",
    "get_client_avg_rating()\n"
   ]
  },
  {
   "cell_type": "code",
   "execution_count": 5,
   "metadata": {},
   "outputs": [
    {
     "data": {
      "image/png": "[encoded data removed]",
      "text/plain": [
       "<Figure size 1000x600 with 1 Axes>"
      ]
     },
     "metadata": {},
     "output_type": "display_data"
    }
   ],
   "source": [
    "import matplotlib.pyplot as plt\n",
    "\n",
    "def read_event_titles(event_titles_filename):\n",
    "    event_titles_map = {}\n",
    "    with open(event_titles_filename) as f:\n",
    "        for line in f.readlines():\n",
    "            parts = [x.strip() for x in line.split(',')]\n",
    "            event_id = int(parts[0])\n",
    "            event_name = parts[1]\n",
    "            event_titles_map[event_id] = event_name\n",
    "    return event_titles_map\n",
    "\n",
    "def get_ratings_map(ratings_filename):\n",
    "    ratings_map = {}\n",
    "    with open(ratings_filename) as f:\n",
    "        for line in f.readlines():\n",
    "            parts = [x.strip() for x in line.split(',')]\n",
    "            client_id = int(parts[0])\n",
    "            event_id = int(parts[1])\n",
    "            rating = float(parts[2])\n",
    "            if client_id not in ratings_map:\n",
    "                ratings_map[client_id] = {}\n",
    "            ratings_map[client_id][event_id] = rating\n",
    "    return ratings_map\n",
    "\n",
    "def get_client_avg_rating(ratings_map):\n",
    "    avg_ratings = {}\n",
    "    for client_id, ratings in ratings_map.items():\n",
    "        avg_rating = sum(ratings.values()) / len(ratings)\n",
    "        avg_ratings[client_id] = avg_rating\n",
    "    return avg_ratings\n",
    "\n",
    "# Assuming you have loaded event_titles_filename and ratings_filename\n",
    "event_titles_map = read_event_titles(event_titles_filename)\n",
    "ratings_map = get_ratings_map(ratings_filename)\n",
    "client_avg_ratings = get_client_avg_rating(ratings_map)\n",
    "\n",
    "# Visualizing client average ratings\n",
    "client_ids = list(client_avg_ratings.keys())\n",
    "avg_ratings = list(client_avg_ratings.values())\n",
    "\n",
    "plt.figure(figsize=(10, 6))\n",
    "plt.bar(client_ids, avg_ratings, color='skyblue')\n",
    "plt.xlabel('Client ID')\n",
    "plt.ylabel('Average Rating')\n",
    "plt.title('Average Ratings by Client')\n",
    "plt.xticks(rotation=45)\n",
    "plt.tight_layout()\n",
    "plt.show()\n"
   ]
  },
  {
   "cell_type": "code",
   "execution_count": 6,
   "metadata": {},
   "outputs": [],
   "source": [
    "def calculate_accuracy():\n",
    "    correct_predictions = 0\n",
    "    total_predictions = 0\n",
    "    for client in client_event_map:\n",
    "        for event in client_event_map[client]:\n",
    "            total_predictions += 1\n",
    "            predicted_rating = predict_rating(client, event)\n",
    "            if predicted_rating == client_event_map[client][event]:\n",
    "                correct_predictions += 1\n",
    "    accuracy = (correct_predictions / total_predictions) * 100\n",
    "    return accuracy\n"
   ]
  },
  {
   "cell_type": "code",
   "execution_count": 7,
   "metadata": {},
   "outputs": [],
   "source": [
    "def predict_rating(client, event):\n",
    "    if client not in cache:\n",
    "        client_correlation = get_client_corr(client)\n",
    "        temp_rating = 0\n",
    "        for other_client in client_correlation:\n",
    "            if event in client_event_map[other_client]:\n",
    "                temp_rating += client_correlation[other_client] * (client_event_map[other_client][event] - client_avg_rating[other_client])\n",
    "        predicted_rating = client_avg_rating[client] + temp_rating\n",
    "        cache[client] = predicted_rating\n",
    "    else:\n",
    "        predicted_rating = cache[client]\n",
    "    return predicted_rating\n"
   ]
  },
  {
   "cell_type": "code",
   "execution_count": 8,
   "metadata": {},
   "outputs": [],
   "source": [
    "def get_client_corr(active_client):\n",
    "    client_correlation = {}\n",
    "    for client in client_event_map:\n",
    "        if client != active_client:\n",
    "            nominator = 0\n",
    "            sum_vaj_diff = 0\n",
    "            sum_vij_diff = 0\n",
    "            for event in client_event_map[active_client]:\n",
    "                if event in client_event_map[client]:                \n",
    "                    nominator +=  (client_event_map[active_client][event] - client_avg_rating[active_client]) * (client_event_map[client][event] - client_avg_rating[client])\n",
    "                    sum_vaj_diff +=  np.power(client_event_map[active_client][event] - client_avg_rating[active_client], 2)\n",
    "                    sum_vij_diff +=  np.power(client_event_map[client][event] - client_avg_rating[client], 2)\n",
    "            denominator= np.sqrt(sum_vaj_diff * sum_vij_diff)  \n",
    "            if denominator != 0:\n",
    "                client_correlation[client] = nominator / denominator\n",
    "    return client_correlation\n"
   ]
  },
  {
   "cell_type": "code",
   "execution_count": 9,
   "metadata": {},
   "outputs": [],
   "source": [
    "def recommendation(active_client, K):\n",
    "    if active_client not in cache:\n",
    "        client_correlation = get_client_corr(active_client)\n",
    "        predicted_rating ={}\n",
    "        for event in event_titles_map:\n",
    "            temp_rating = 0\n",
    "            if event in event_client_map:\n",
    "                for client in event_client_map[event]:\n",
    "                    if client in client_correlation:\n",
    "                        temp_rating +=client_correlation[client]*(client_event_map[client][event]- client_avg_rating[client])\n",
    "            predicted_rating[event] = temp_rating\n",
    "\n",
    "        predicted_rating = sorted(predicted_rating.items(), key=lambda kv: kv[1], reverse=True)\n",
    "        cache[active_client] = predicted_rating\n",
    "    else:\n",
    "        predicted_rating= cache[active_client]\n",
    "        \n",
    "    recommended_events = predicted_rating[:K]\n",
    "    for event in recommended_events:\n",
    "        print(event_titles_map[event[0]])\n"
   ]
  },
  {
   "cell_type": "code",
   "execution_count": 17,
   "metadata": {},
   "outputs": [
    {
     "name": "stdout",
     "output_type": "stream",
     "text": [
      "Accuracy: 99.90%\n",
      "Harvey\n",
      "Angela\n",
      "Larry\n",
      "Louise\n",
      "Benjamin\n",
      "Joanne\n",
      "Arthur\n",
      "Sharon\n",
      "Eric\n",
      "Jeremy\n"
     ]
    }
   ],
   "source": [
    "active_client = 1392773\n",
    "K = 10\n",
    "\n",
    "accuracy = calculate_accuracy()\n",
    "print(f'Accuracy: {accuracy:.2f}%')\n",
    "\n",
    "recommendation(active_client, K)"
   ]
  },
  {
   "cell_type": "markdown",
   "metadata": {},
   "source": []
  },
  {
   "cell_type": "code",
   "execution_count": null,
   "metadata": {},
   "outputs": [],
   "source": [
    "\n"
   ]
  },
  {
   "cell_type": "code",
   "execution_count": 11,
   "metadata": {},
   "outputs": [],
   "source": [
    "# Save the trained model to model.pkl\n",
    "import pickle\n",
    "model = cache\n",
    "with open('model.pkl', 'wb') as file:\n",
    "    pickle.dump(model, file)"
   ]
  },
  {
   "cell_type": "code",
   "execution_count": 12,
   "metadata": {},
   "outputs": [],
   "source": [
    "# Assuming you have features for each event stored in a dictionary event_features_map\n",
    "\n",
    "event_features_map = {\n",
    "    # Define your event features here\n",
    "}\n",
    "\n",
    "def calculate_content_similarity(event1, event2):\n",
    "    # Implement a similarity measure between two events based on their features\n",
    "    # Example: Cosine similarity, Jaccard similarity, etc.\n",
    "    pass\n",
    "\n",
    "def content_based_recommendation(active_client, K):\n",
    "    user_profile = client_event_map.get(active_client, {})\n",
    "    recommendations = []\n",
    "\n",
    "    for event in event_features_map:\n",
    "        # Calculate similarity between the event and items the user has interacted with\n",
    "        similarity_score = calculate_content_similarity(event, user_profile)\n",
    "        \n",
    "        # Exclude events already interacted with by the user\n",
    "        if event not in user_profile:\n",
    "            recommendations.append((event, similarity_score))\n",
    "\n",
    "    # Sort recommendations based on similarity score and select top-K\n",
    "    recommendations.sort(key=lambda x: x[1], reverse=True)\n",
    "    top_recommendations = recommendations[:K]\n",
    "    \n",
    "    return top_recommendations\n",
    "\n",
    "# Example usage\n",
    "active_client = 1987434\n",
    "K = 5\n",
    "content_based_recommendations = content_based_recommendation(active_client, K)\n"
   ]
  },
  {
   "cell_type": "code",
   "execution_count": 18,
   "metadata": {},
   "outputs": [
    {
     "ename": "ModuleNotFoundError",
     "evalue": "No module named 'pandas'",
     "output_type": "error",
     "traceback": [
      "\u001b[0;31m---------------------------------------------------------------------------\u001b[0m",
      "\u001b[0;31mModuleNotFoundError\u001b[0m                       Traceback (most recent call last)",
      "Cell \u001b[0;32mIn[18], line 1\u001b[0m\n\u001b[0;32m----> 1\u001b[0m \u001b[38;5;28;01mimport\u001b[39;00m \u001b[38;5;21;01mpandas\u001b[39;00m \u001b[38;5;28;01mas\u001b[39;00m \u001b[38;5;21;01mpd\u001b[39;00m\n\u001b[1;32m      2\u001b[0m \u001b[38;5;28;01mfrom\u001b[39;00m \u001b[38;5;21;01msklearn\u001b[39;00m\u001b[38;5;21;01m.\u001b[39;00m\u001b[38;5;21;01mmodel_selection\u001b[39;00m \u001b[38;5;28;01mimport\u001b[39;00m train_test_split\n\u001b[1;32m      3\u001b[0m \u001b[38;5;28;01mfrom\u001b[39;00m \u001b[38;5;21;01msklearn\u001b[39;00m\u001b[38;5;21;01m.\u001b[39;00m\u001b[38;5;21;01mensemble\u001b[39;00m \u001b[38;5;28;01mimport\u001b[39;00m RandomForestClassifier\n",
      "\u001b[0;31mModuleNotFoundError\u001b[0m: No module named 'pandas'"
     ]
    }
   ],
   "source": [
    "import pandas as pd\n",
    "from sklearn.model_selection import train_test_split\n",
    "from sklearn.ensemble import RandomForestClassifier\n",
    "from sklearn.metrics import accuracy_score\n",
    "\n",
    "# Sample datasets\n",
    "event_planners = {\n",
    "    'Event Planner ID': [1, 2, 3, 4, 5],\n",
    "    'Location': ['New York', 'Los Angeles', 'Chicago', 'New York', 'Miami'],\n",
    "    'Services': ['Weddings', 'Corporate Events', 'Weddings', 'Private Parties', 'Weddings'],\n",
    "    'Price Range': ['High', 'Medium', 'Low', 'Medium', 'High'],\n",
    "    'Rating': [4.8, 4.5, 4.7, 4.3, 4.9],\n",
    "    'Recommended': [1, 0, 1, 0, 1]  # 1 for recommended, 0 for not recommended\n",
    "}\n",
    "\n",
    "users = {\n",
    "    'User ID': [1, 2, 3, 4],\n",
    "    'Location': ['New York', 'Los Angeles', 'Chicago', 'Miami'],\n",
    "    'Services Preference': ['Weddings', 'Corporate Events', 'Private Parties', 'Weddings'],\n",
    "    'Price Range Preference': ['High', 'Medium', 'Low', 'Medium'],\n",
    "}\n",
    "\n",
    "# Convert datasets to dataframes\n",
    "df_event_planners = pd.DataFrame(event_planners)\n",
    "df_users = pd.DataFrame(users)\n",
    "\n",
    "# Feature engineering for event planners\n",
    "X_event_planners = df_event_planners[['Location', 'Services', 'Price Range', 'Rating']]\n",
    "X_event_planners = pd.get_dummies(X_event_planners)\n",
    "\n",
    "# Feature engineering for users\n",
    "X_users = df_users[['Location', 'Services Preference', 'Price Range Preference']]\n",
    "X_users = pd.get_dummies(X_users)\n",
    "\n",
    "# Target attribute for event planners (based on user preference)\n",
    "y = df_event_planners['Recommended']\n",
    "\n",
    "# Split the dataset into training and testing sets\n",
    "X_train, X_test, y_train, y_test = train_test_split(X_event_planners, y, test_size=0.2, random_state=42)\n",
    "\n",
    "# Train a Random Forest Classifier model\n",
    "model = RandomForestClassifier(n_estimators=100, random_state=42)\n",
    "model.fit(X_train, y_train)\n",
    "\n",
    "# Make predictions on the test set\n",
    "predictions = model.predict(X_test)\n",
    "\n",
    "# Evaluate the model\n",
    "accuracy = accuracy_score(y_test, predictions)\n",
    "print(\"Accuracy:\", accuracy)\n",
    "\n",
    "# Search functionality - Recommend event planners based on user profile\n",
    "user_profile = X_users.iloc[0]  # Example: Taking the first user's profile\n",
    "recommendations = model.predict([user_profile])  # Predict based on user's profile\n",
    "recommended_event_planners = df_event_planners[df_event_planners['Recommended'] == recommendations[0]]\n",
    "print(\"Recommended Event Planners:\")\n",
    "print(recommended_event_planners)\n",
    "\n",
    "# Event attribute for target audience\n",
    "event_target_audience = {\n",
    "    'Event ID': [1, 2, 3, 4],\n",
    "    'Event Planner ID': [1, 2, 3, 4],\n",
    "    'Target Audience': ['Couples', 'Corporate', 'Private', 'Families']\n",
    "}\n",
    "\n",
    "df_event_target_audience = pd.DataFrame(event_target_audience)\n",
    "print(\"Event Target Audience:\")\n",
    "print(df_event_target_audience)\n"
   ]
  }
 ],
 "metadata": {
  "kernelspec": {
   "display_name": "Python 3 (ipykernel)",
   "language": "python",
   "name": "python3"
  },
  "language_info": {
   "codemirror_mode": {
    "name": "ipython",
    "version": 3
   },
   "file_extension": ".py",
   "mimetype": "text/x-python",
   "name": "python",
   "nbconvert_exporter": "python",
   "pygments_lexer": "ipython3",
   "version": "3.11.4"
  }
 },
 "nbformat": 4,
 "nbformat_minor": 2
}
